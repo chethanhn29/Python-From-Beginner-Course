{
 "cells": [
  {
   "cell_type": "code",
   "execution_count": null,
   "id": "0680a2e1",
   "metadata": {},
   "outputs": [],
   "source": [
    "Basic Fundamental Of Pyton"
   ]
  },
  {
   "cell_type": "code",
   "execution_count": 1,
   "id": "0c77107f",
   "metadata": {},
   "outputs": [
    {
     "name": "stdout",
     "output_type": "stream",
     "text": [
      "navin's laptop\n"
     ]
    }
   ],
   "source": [
    "print(\"navin's laptop\")"
   ]
  },
  {
   "cell_type": "code",
   "execution_count": 2,
   "id": "36c7b77d",
   "metadata": {},
   "outputs": [
    {
     "ename": "SyntaxError",
     "evalue": "invalid syntax (3366358169.py, line 1)",
     "output_type": "error",
     "traceback": [
      "\u001b[1;36m  Input \u001b[1;32mIn [2]\u001b[1;36m\u001b[0m\n\u001b[1;33m    print('navin's laptop')\u001b[0m\n\u001b[1;37m                 ^\u001b[0m\n\u001b[1;31mSyntaxError\u001b[0m\u001b[1;31m:\u001b[0m invalid syntax\n"
     ]
    }
   ],
   "source": [
    "print('navin's laptop')"
   ]
  },
  {
   "cell_type": "code",
   "execution_count": 3,
   "id": "2cf4e27c",
   "metadata": {},
   "outputs": [
    {
     "ename": "SyntaxError",
     "evalue": "invalid syntax (503525417.py, line 1)",
     "output_type": "error",
     "traceback": [
      "\u001b[1;36m  Input \u001b[1;32mIn [3]\u001b[1;36m\u001b[0m\n\u001b[1;33m    print('navin's \"laptop\"')\u001b[0m\n\u001b[1;37m                 ^\u001b[0m\n\u001b[1;31mSyntaxError\u001b[0m\u001b[1;31m:\u001b[0m invalid syntax\n"
     ]
    }
   ],
   "source": [
    "print('navin's \"laptop\"')"
   ]
  },
  {
   "cell_type": "code",
   "execution_count": 4,
   "id": "69e08ce1",
   "metadata": {},
   "outputs": [
    {
     "name": "stdout",
     "output_type": "stream",
     "text": [
      "navin's \"laptop\"\n"
     ]
    }
   ],
   "source": [
    "print('navin\\'s \"laptop\"')"
   ]
  },
  {
   "cell_type": "code",
   "execution_count": 6,
   "id": "b0fda8a2",
   "metadata": {},
   "outputs": [
    {
     "name": "stdout",
     "output_type": "stream",
     "text": [
      "c:\\Documents\n"
     ]
    }
   ],
   "source": [
    "print(\"c:\\Documents\")"
   ]
  },
  {
   "cell_type": "code",
   "execution_count": 8,
   "id": "45b0199f",
   "metadata": {},
   "outputs": [
    {
     "name": "stdout",
     "output_type": "stream",
     "text": [
      "['abcd', 786, 2.23, 'john', 70.2]\n",
      "abcd\n",
      "[786, 2.23]\n",
      "[2.23, 'john', 70.2]\n",
      "[123, 'john', 123, 'john']\n",
      "['abcd', 786, 2.23, 'john', 70.2, 123, 'john']\n"
     ]
    }
   ],
   "source": [
    "_list = [ 'abcd', 786 , 2.23, 'john', 70.2 ]\n",
    "tinylist = [123, 'john']\n",
    "print (_list)          # Prints complete list\n",
    "print (_list[0])       # Prints first element of the list\n",
    "print (_list[1:3])     # Prints elements starting from 2nd till 3rd \n",
    "print (_list[2:])      # Prints elements starting from 3rd element\n",
    "print (tinylist * 2)  # Prints list two times\n",
    "print (_list + tinylist) # Prints concatenated lists"
   ]
  },
  {
   "cell_type": "code",
   "execution_count": 9,
   "id": "4762b70e",
   "metadata": {},
   "outputs": [
    {
     "data": {
      "text/plain": [
       "False"
      ]
     },
     "execution_count": 9,
     "metadata": {},
     "output_type": "execute_result"
    }
   ],
   "source": [
    "_list1 = [ 'abcd', 786 , 2.23]\n",
    "_list2 = [ 2.23,786,'abcd']\n",
    "_list1==_list2"
   ]
  },
  {
   "cell_type": "code",
   "execution_count": 10,
   "id": "d1d6ed04",
   "metadata": {},
   "outputs": [],
   "source": [
    "_list1[2]=25   ### We can update the values of list ie, list are mutable"
   ]
  },
  {
   "cell_type": "code",
   "execution_count": 12,
   "id": "283de46b",
   "metadata": {},
   "outputs": [
    {
     "data": {
      "text/plain": [
       "['abcd', 786, 25]"
      ]
     },
     "execution_count": 12,
     "metadata": {},
     "output_type": "execute_result"
    }
   ],
   "source": [
    "_list1"
   ]
  },
  {
   "cell_type": "code",
   "execution_count": 13,
   "id": "24fc56d7",
   "metadata": {},
   "outputs": [],
   "source": [
    "tuple1 = ('abcd', 786 , 2.23) "
   ]
  },
  {
   "cell_type": "code",
   "execution_count": 14,
   "id": "b37e9e72",
   "metadata": {},
   "outputs": [
    {
     "data": {
      "text/plain": [
       "('abcd', 786, 2.23)"
      ]
     },
     "execution_count": 14,
     "metadata": {},
     "output_type": "execute_result"
    }
   ],
   "source": [
    "tuple1"
   ]
  },
  {
   "cell_type": "code",
   "execution_count": 15,
   "id": "627a27d1",
   "metadata": {},
   "outputs": [
    {
     "ename": "TypeError",
     "evalue": "'tuple' object does not support item assignment",
     "output_type": "error",
     "traceback": [
      "\u001b[1;31m---------------------------------------------------------------------------\u001b[0m",
      "\u001b[1;31mTypeError\u001b[0m                                 Traceback (most recent call last)",
      "Input \u001b[1;32mIn [15]\u001b[0m, in \u001b[0;36m<cell line: 1>\u001b[1;34m()\u001b[0m\n\u001b[1;32m----> 1\u001b[0m tuple1[\u001b[38;5;241m2\u001b[39m]\u001b[38;5;241m=\u001b[39m\u001b[38;5;241m25\u001b[39m\n",
      "\u001b[1;31mTypeError\u001b[0m: 'tuple' object does not support item assignment"
     ]
    }
   ],
   "source": [
    "tuple1[2]=25   ### We can update the values of list ie, list are mutable"
   ]
  },
  {
   "cell_type": "markdown",
   "id": "949d2cd8",
   "metadata": {},
   "source": [
    "### Lists in Python:\n",
    "\n",
    "Lists are one of the most powerful data structures in python.\n",
    "\n",
    "\n",
    "In Python, an empty list is created using list() function.\n",
    "\n",
    "\n",
    "They are just like the arrays declared in other languages. \n",
    "\n",
    "But the most powerful thing is that list need not be always homogeneous.\n",
    "\n",
    "A single list can contain strings, integers, as well as other objects. \n",
    "\n",
    "Lists can also be used for implementing stacks and queues.\n",
    "\n",
    "Lists are mutable, i.e., they can be altered once declared. \n",
    "\n",
    "The elements of list can be accessed using indexing and slicing operations."
   ]
  },
  {
   "cell_type": "code",
   "execution_count": 23,
   "id": "d6979fa8",
   "metadata": {},
   "outputs": [
    {
     "name": "stdout",
     "output_type": "stream",
     "text": [
      "[1, 'a', 'string', 3]\n",
      "[1, 'a', 'string', 3, 6]\n",
      "[1, 'a', 'string', 3]\n",
      "a\n"
     ]
    }
   ],
   "source": [
    "# Declaring a list\n",
    "L = [1, \"a\" , \"string\" , 1+2]\n",
    "print(L)\n",
    "#Adding an element in the list\n",
    "L.append(6)    \n",
    "print(L)\n",
    "#Deleting last element from a list\n",
    "L.pop()\n",
    "print(L)\n",
    "#Displaying Second element of the list\n",
    "print(L[1])"
   ]
  },
  {
   "cell_type": "code",
   "execution_count": 24,
   "id": "bc96b223",
   "metadata": {},
   "outputs": [
    {
     "name": "stdout",
     "output_type": "stream",
     "text": [
      "(1, 'a', 'string', 3)\n",
      "a\n"
     ]
    }
   ],
   "source": [
    "#Tuples in Python: A tuple is a sequence of immutable Python objects. \n",
    "   # Tuples are just like lists with the exception that tuples cannot be changed once declared. \n",
    "   # Tuples are usually faster than lists.\n",
    "\n",
    "\n",
    "tup = (1, \"a\", \"string\", 1+2)\n",
    "print(tup)\n",
    "print(tup[1])"
   ]
  },
  {
   "cell_type": "code",
   "execution_count": 25,
   "id": "1087ac6e",
   "metadata": {},
   "outputs": [
    {
     "name": "stdout",
     "output_type": "stream",
     "text": [
      "1\n",
      "2\n",
      "3\n",
      "4\n",
      "5\n",
      "6\n",
      "7\n",
      "8\n",
      "9\n"
     ]
    }
   ],
   "source": [
    "#Iterations in Python: Iterations or looping can be performed in python by ‘for’ and ‘while’ loops.\n",
    " #   Apart from iterating upon a particular condition, \n",
    " #   we can also iterate on strings, lists, and tuples.\n",
    "\n",
    "#Example 1: Iteration by while loop for a condition\n",
    "\n",
    "\n",
    "i = 1\n",
    "while (i < 10):\n",
    "    print(i)\n",
    "    i += 1"
   ]
  },
  {
   "cell_type": "code",
   "execution_count": 26,
   "id": "6a1f9fb2",
   "metadata": {},
   "outputs": [
    {
     "name": "stdout",
     "output_type": "stream",
     "text": [
      "H\n",
      "e\n",
      "l\n",
      "l\n",
      "o\n",
      " \n",
      "W\n",
      "o\n",
      "r\n",
      "l\n",
      "d\n"
     ]
    }
   ],
   "source": [
    "#Example 2: Iteration by for loop on the string\n",
    "\n",
    "\n",
    "s = \"Hello World\"\n",
    "for i in s:\n",
    "    print(i)"
   ]
  },
  {
   "cell_type": "code",
   "execution_count": 28,
   "id": "42c0de0f",
   "metadata": {},
   "outputs": [
    {
     "name": "stdout",
     "output_type": "stream",
     "text": [
      "1\n",
      "4\n",
      "5\n",
      "7\n",
      "8\n",
      "9\n"
     ]
    }
   ],
   "source": [
    "#Example 3: Iteration by for loop on list\n",
    "\n",
    "\n",
    "list1 = [1, 4, 5, 7, 8, 9]\n",
    "for i in list1 :\n",
    "    print(i)"
   ]
  },
  {
   "cell_type": "code",
   "execution_count": 29,
   "id": "6339869a",
   "metadata": {},
   "outputs": [
    {
     "name": "stdout",
     "output_type": "stream",
     "text": [
      "0\n",
      "1\n",
      "2\n",
      "3\n",
      "4\n",
      "5\n",
      "6\n",
      "7\n",
      "8\n",
      "9\n"
     ]
    }
   ],
   "source": [
    "#Example 4: Iteration by for loop for range\n",
    "\n",
    "\n",
    "for i in range(0, 10):\n",
    "    print(i)"
   ]
  },
  {
   "cell_type": "code",
   "execution_count": 30,
   "id": "dfa51729",
   "metadata": {},
   "outputs": [
    {
     "name": "stdout",
     "output_type": "stream",
     "text": [
      "Accessing a element from a Multi-Dimensional list\n",
      "For\n",
      "Geeks\n"
     ]
    }
   ],
   "source": [
    "#Example 2: Accessing elements from a multi-dimensional list\n",
    "\n",
    "\n",
    "# Creating a Multi-Dimensional List\n",
    "# (By Nesting a list inside a List)\n",
    "List12 = [['Geeks', 'For'], ['Geeks']]\n",
    " \n",
    "# accessing an element from the\n",
    "# Multi-Dimensional List using\n",
    "# index number\n",
    "print(\"Accessing a element from a Multi-Dimensional list\")\n",
    "print(List12[0][1])\n",
    "print(List12[1][0])"
   ]
  },
  {
   "cell_type": "code",
   "execution_count": 31,
   "id": "4f2d827a",
   "metadata": {},
   "outputs": [
    {
     "name": "stdout",
     "output_type": "stream",
     "text": [
      "0\n",
      "3\n"
     ]
    }
   ],
   "source": [
    "#Getting the size of Python list\n",
    "#Python len() is used to get the length of the list.\n",
    "\n",
    "\n",
    "# Creating a List\n",
    "List1 = []\n",
    "print(len(List1))\n",
    " \n",
    "# Creating a List of numbers\n",
    "List2 = [10, 20, 14]\n",
    "print(len(List2))"
   ]
  },
  {
   "cell_type": "code",
   "execution_count": 34,
   "id": "065d3b57",
   "metadata": {},
   "outputs": [
    {
     "name": "stdout",
     "output_type": "stream",
     "text": [
      "Initial blank List: \n",
      "[]\n",
      "\n",
      "List after Addition of Three elements: \n",
      "[1, 2, 4]\n",
      "\n",
      "List after Addition of elements from 1-3: \n",
      "[1, 2, 4, 1, 2, 3]\n",
      "\n",
      "List after Addition of a Tuple: \n",
      "[1, 2, 4, 1, 2, 3, (5, 6)]\n",
      "\n",
      "List after Addition of a List: \n",
      "[1, 2, 4, 1, 2, 3, (5, 6), ['For', 'Geeks']]\n"
     ]
    }
   ],
   "source": [
    "#Adding Elements to a Python List\n",
    "#Method 1: Using append() method\n",
    "#Elements can be added to the List by using the built-in append() function. Only one element at a time can be added to the list by using the append() method, for the addition of multiple elements with the append() method, loops are used. Tuples can also be added to the list with the use of the append method because tuples are immutable. Unlike Sets, Lists can also be added to the existing list with the use of the append() method.\n",
    "\n",
    "\n",
    "# Python program to demonstrate\n",
    "# Addition of elements in a List\n",
    " \n",
    "# Creating a List\n",
    "List = []\n",
    "print(\"Initial blank List: \")\n",
    "print(List)\n",
    " \n",
    "# Addition of Elements\n",
    "# in the List\n",
    "List.append(1)\n",
    "List.append(2)\n",
    "List.append(4)\n",
    "print(\"\\nList after Addition of Three elements: \")\n",
    "print(List)\n",
    " \n",
    "# Adding elements to the List\n",
    "# using Iterator\n",
    "for i in range(1, 4):\n",
    "    List.append(i)\n",
    "print(\"\\nList after Addition of elements from 1-3: \")\n",
    "print(List)\n",
    " \n",
    "# Adding Tuples to the List\n",
    "List.append((5, 6))\n",
    "print(\"\\nList after Addition of a Tuple: \")\n",
    "print(List)\n",
    " \n",
    "# Addition of List to a List\n",
    "List2 = ['For', 'Geeks']\n",
    "List.append(List2)\n",
    "print(\"\\nList after Addition of a List: \")\n",
    "print(List)\n"
   ]
  },
  {
   "cell_type": "code",
   "execution_count": 36,
   "id": "bbd5023d",
   "metadata": {},
   "outputs": [
    {
     "name": "stdout",
     "output_type": "stream",
     "text": [
      "Initial List: \n",
      "[1, 2, 3, 4]\n",
      "\n",
      "List after performing Insert Operation: \n",
      "['Geeks', 1, 2, 3, 12, 4]\n"
     ]
    }
   ],
   "source": [
    "#Method 2: Using insert() method\n",
    "#append() method only works for the addition of elements at the end of the List, \n",
    "#for the addition of elements at the desired position, insert() method is used.\n",
    "#Unlike append() which takes only one argument, the insert() method requires two arguments\n",
    "#(position, value). \n",
    "\n",
    "\n",
    "# Python program to demonstrate\n",
    "# Addition of elements in a List\n",
    "  \n",
    "# Creating a List\n",
    "List = [1,2,3,4]\n",
    "print(\"Initial List: \")\n",
    "print(List)\n",
    " \n",
    "# Addition of Element at\n",
    "# specific Position\n",
    "# (using Insert Method)\n",
    "List.insert(3, 12)\n",
    "List.insert(0, 'Geeks')\n",
    "print(\"\\nList after performing Insert Operation: \")\n",
    "print(List)\n"
   ]
  },
  {
   "cell_type": "markdown",
   "id": "3922fdcf",
   "metadata": {},
   "source": [
    "### Python has a set of built-in methods that you can use on lists/arrays.\n",
    "\n",
    "append()\tAdds an element at the end of the list\n",
    "\n",
    "clear()\tRemoves all the elements from the list\n",
    "\n",
    "copy()\tReturns a copy of the list\n",
    "\n",
    "count()\tReturns the number of elements with the specified value\n",
    "\n",
    "extend()\tAdd the elements of a list (or any iterable), to the end of the current list\n",
    "\n",
    "index()\tReturns the index of the first element with the specified value\n",
    "\n",
    "insert()\tAdds an element at the specified position\n",
    "\n",
    "pop()\tRemoves the element at the specified position\n",
    "\n",
    "remove()\tRemoves the first item with the specified value\n",
    "\n",
    "reverse()\tReverses the order of the list\n",
    "\n",
    "sort()\tSorts the list"
   ]
  },
  {
   "cell_type": "code",
   "execution_count": 37,
   "id": "9878b411",
   "metadata": {},
   "outputs": [
    {
     "name": "stdout",
     "output_type": "stream",
     "text": [
      "['Mathematics', 'chemistry', 1997, 2000, 20544]\n"
     ]
    }
   ],
   "source": [
    "# Adds List Element as value of List.\n",
    "List = ['Mathematics', 'chemistry', 1997, 2000]\n",
    "List.append(20544)\n",
    "print(List)"
   ]
  },
  {
   "cell_type": "markdown",
   "id": "09e92f25",
   "metadata": {},
   "source": [
    "insert()\n",
    "Inserts an element at the specified position. \n",
    "\n",
    "Syntax:\n",
    "    list.insert(<position, element)"
   ]
  },
  {
   "cell_type": "code",
   "execution_count": 38,
   "id": "fffdc0e7",
   "metadata": {},
   "outputs": [
    {
     "name": "stdout",
     "output_type": "stream",
     "text": [
      "['Mathematics', 'chemistry', 10087, 1997, 2000]\n"
     ]
    }
   ],
   "source": [
    "List = ['Mathematics', 'chemistry', 1997, 2000]\n",
    "# Insert at index 2 value 10087\n",
    "List.insert(2,10087)    \n",
    "print(List)      "
   ]
  },
  {
   "cell_type": "code",
   "execution_count": 39,
   "id": "93fdcc67",
   "metadata": {},
   "outputs": [
    {
     "name": "stdout",
     "output_type": "stream",
     "text": [
      "[1, 2, 3, 2, 3, 4, 5]\n",
      "[2, 3, 4, 5, 1, 2, 3, 2, 3, 4, 5]\n"
     ]
    }
   ],
   "source": [
    "#extend()\n",
    "#Adds contents to List2 to the end of List1. \n",
    "# SYNTAX-----   List1.extend(List2)\n",
    "List1 = [1, 2, 3]\n",
    "List2 = [2, 3, 4, 5]\n",
    " \n",
    "# Add List2 to List1\n",
    "List1.extend(List2)\n",
    "print(List1)\n",
    " \n",
    "# Add List1 to List2 now\n",
    "List2.extend(List1)\n",
    "print(List2)"
   ]
  },
  {
   "cell_type": "code",
   "execution_count": 42,
   "id": "d5d1a0a7",
   "metadata": {},
   "outputs": [
    {
     "name": "stdout",
     "output_type": "stream",
     "text": [
      "2.5\n",
      "2.3\n"
     ]
    }
   ],
   "source": [
    "#Deletion of List Elements\n",
    "\n",
    "#To Delete one or more elements, i.e. remove an element, many built-in functions can be used, \n",
    "#such as pop() & remove() and keywords such as del.\n",
    "\n",
    "#pop()\n",
    "#The index is not a necessary parameter, if not mentioned takes the last index. \n",
    "\n",
    "#Syntax:  list.pop([index])\n",
    "\n",
    "#Note: Index must be in range of the List, elsewise IndexErrors occurs. \n",
    "List = [2.3, 4.445, 3, 5.33, 1.054, 2.5]\n",
    "print(List.pop())\n",
    "\n",
    "List = [2.3, 4.445, 3, 5.33, 1.054, 2.5]\n",
    "print(List.pop(0))"
   ]
  },
  {
   "cell_type": "code",
   "execution_count": null,
   "id": "4b12498e",
   "metadata": {},
   "outputs": [],
   "source": [
    "#del() \n",
    "#Element to be deleted is mentioned using list name and index. \n",
    "\n",
    "#Syntax:   del list.[index]\n",
    "\n",
    "List = [2.3, 4.445, 3, 5.33, 1.054, 2.5]\n",
    "del List[0]\n",
    "print(List)\n",
    "\n"
   ]
  },
  {
   "cell_type": "code",
   "execution_count": 4,
   "id": "cd68b220",
   "metadata": {},
   "outputs": [
    {
     "name": "stdout",
     "output_type": "stream",
     "text": [
      "[2.3, 4.445, 3, 3, 5.33, 1.054, 2.5]\n"
     ]
    }
   ],
   "source": [
    "#remove()\n",
    "#Element to be deleted is mentioned using list name and element. \n",
    "#Syntax\n",
    "#list.remove(element)\n",
    "List = [2.3,3, 4.445, 3,3, 5.33, 1.054, 2.5]\n",
    "List.remove(3)\n",
    "print(List)"
   ]
  },
  {
   "cell_type": "code",
   "execution_count": 9,
   "id": "d3ef3b8e",
   "metadata": {},
   "outputs": [
    {
     "data": {
      "text/plain": [
       "['a', 'b', 'c']"
      ]
     },
     "execution_count": 9,
     "metadata": {},
     "output_type": "execute_result"
    }
   ],
   "source": [
    "#Removing duplicates\n",
    "#As dictionaries in python do not contain duplicate keys. We use the dict.fromkeys() function to convert our list into a dictionary with list elements as keys. And then we convert the dictionary back to list. \n",
    "\n",
    "#This is a powerful trick to automatically remove all the duplicates. Its syntax is:\n",
    "\n",
    "My_list=['a', 'b', 'c', 'b', 'a']\n",
    "Mylist = list(dict.fromkeys(My_list))\n",
    "Mylist"
   ]
  },
  {
   "cell_type": "code",
   "execution_count": 10,
   "id": "81a7a49d",
   "metadata": {},
   "outputs": [
    {
     "data": {
      "text/plain": [
       "{'a': None, 'b': None, 'c': None}"
      ]
     },
     "execution_count": 10,
     "metadata": {},
     "output_type": "execute_result"
    }
   ],
   "source": [
    "dict.fromkeys(My_list)"
   ]
  },
  {
   "cell_type": "markdown",
   "id": "7c95aa02",
   "metadata": {},
   "source": [
    "Modifying list\n",
    "\n",
    "\n",
    "To modify the values in the list with the help of an external function, we make use of the map() function. \n",
    "\n",
    "Map() function returns a map object (iterator) of the results after applying the given function to each element of a given iterable(list, tuple etc.). Below is the syntax:\n",
    "\n",
    "My_list = list(map(function,iterable))\n",
    "Example:"
   ]
  },
  {
   "cell_type": "code",
   "execution_count": 11,
   "id": "f6c080c2",
   "metadata": {},
   "outputs": [
    {
     "name": "stdout",
     "output_type": "stream",
     "text": [
      "[25, 4, 8100, 576, 100, 4, 9025, 1296]\n"
     ]
    }
   ],
   "source": [
    "# using map() function to modify the text\n",
    "def squaring(n):\n",
    "    return n**2\n",
    " \n",
    "# driver code\n",
    "if __name__ == \"__main__\":\n",
    "    my_list = [5, 2, 90, 24, 10, 2, 95, 36]\n",
    " \n",
    "    my_squared_list = list(map(squaring, my_list))\n",
    "    print(my_squared_list)"
   ]
  },
  {
   "cell_type": "markdown",
   "id": "3719bc20",
   "metadata": {},
   "source": [
    "## Python map() function\n",
    "map() function returns a map object(which is an iterator) of the results after\n",
    "applying the given function to each item of a given iterable (list, tuple etc.)\n",
    "\n",
    "Syntax :\n",
    "map(fun, iter)\n",
    "Parameters :\n",
    "\n",
    "fun : It is a function to which map passes each element of given iterable.\n",
    "iter : It is a iterable which is to be mapped.\n",
    "\n",
    "NOTE : You can pass one or more iterable to the map() function.\n",
    "\n",
    "Returns :\n",
    "\n",
    "Returns a list of the results after applying the given function  \n",
    "to each item of a given iterable (list, tuple etc.) \n",
    " \n",
    "NOTE : The returned value from map() (map object) then can be passed to functions like list() (to create a list), set() (to create a set) .\n",
    " "
   ]
  },
  {
   "cell_type": "code",
   "execution_count": 12,
   "id": "61a9ad3e",
   "metadata": {},
   "outputs": [
    {
     "name": "stdout",
     "output_type": "stream",
     "text": [
      "[2, 4, 6, 8]\n"
     ]
    }
   ],
   "source": [
    "# Python program to demonstrate working\n",
    "# of map.\n",
    "  \n",
    "# Return double of n\n",
    "def addition(n):\n",
    "    return n + n\n",
    "  \n",
    "# We double all numbers using map()\n",
    "numbers = (1, 2, 3, 4)\n",
    "result = map(addition, numbers)\n",
    "print(list(result))"
   ]
  },
  {
   "cell_type": "markdown",
   "id": "00e4d86b",
   "metadata": {},
   "source": [
    "\n",
    "We can also use lambda expressions with map to achieve above result."
   ]
  },
  {
   "cell_type": "code",
   "execution_count": 14,
   "id": "579c4e81",
   "metadata": {},
   "outputs": [
    {
     "name": "stdout",
     "output_type": "stream",
     "text": [
      "[2, 4, 6, 8]\n"
     ]
    }
   ],
   "source": [
    "# Double all numbers using map and lambda\n",
    "  \n",
    "numbers = (1, 2, 3, 4)\n",
    "result = map(lambda x: x + x, numbers)\n",
    "print(list(result))"
   ]
  },
  {
   "cell_type": "code",
   "execution_count": 15,
   "id": "de471b75",
   "metadata": {},
   "outputs": [
    {
     "name": "stdout",
     "output_type": "stream",
     "text": [
      "[5, 7, 9]\n"
     ]
    }
   ],
   "source": [
    "# Add two lists using map and lambda\n",
    "  \n",
    "numbers1 = [1, 2, 3]\n",
    "numbers2 = [4, 5, 6]\n",
    "  \n",
    "result = map(lambda x, y: x + y, numbers1, numbers2)\n",
    "print(list(result))"
   ]
  },
  {
   "cell_type": "code",
   "execution_count": 16,
   "id": "f2c4a0d1",
   "metadata": {},
   "outputs": [
    {
     "name": "stdout",
     "output_type": "stream",
     "text": [
      "[['s', 'a', 't'], ['b', 'a', 't'], ['c', 'a', 't'], ['m', 'a', 't']]\n"
     ]
    }
   ],
   "source": [
    "# List of strings\n",
    "l = ['sat', 'bat', 'cat', 'mat']\n",
    "  \n",
    "# map() can listify the list of strings individually\n",
    "test = list(map(list, l))\n",
    "print(test)"
   ]
  },
  {
   "cell_type": "markdown",
   "id": "74d407f9",
   "metadata": {},
   "source": [
    "## Convert list of tuples to list of list\n",
    "\n",
    "Method #1: Using list comprehension This can easily be achieved using list comprehension. We just iterate through each list converting the tuples to the list. "
   ]
  },
  {
   "cell_type": "code",
   "execution_count": 8,
   "id": "f20eaed0",
   "metadata": {},
   "outputs": [
    {
     "name": "stdout",
     "output_type": "stream",
     "text": [
      "The original list of tuples : [(1, 2), (3, 4), (5, 6)]\n",
      "The converted list of list : [[1, 2], [3, 4], [5, 6]]\n"
     ]
    }
   ],
   "source": [
    "# Python3 code to demonstrate\n",
    "# convert list of tuples to list of list\n",
    "# using list comprehension\n",
    " \n",
    "# initializing list\n",
    "test_list = [(1, 2), (3, 4), (5, 6)]\n",
    " \n",
    "# printing original list\n",
    "print(\"The original list of tuples : \" + str(test_list))\n",
    " \n",
    "# using list comprehension\n",
    "# convert list of tuples to list of list\n",
    "res = [list(i) for i in test_list]\n",
    " \n",
    "# print result\n",
    "print(\"The converted list of list : \" + str(res))"
   ]
  },
  {
   "cell_type": "markdown",
   "id": "06e54f51",
   "metadata": {},
   "source": [
    "Method #2: Using map() + list We can use the combination of map function and list operator to perform this particular task. The map function binds each tuple and converts it into list. "
   ]
  },
  {
   "cell_type": "code",
   "execution_count": 9,
   "id": "0d7c4bec",
   "metadata": {},
   "outputs": [
    {
     "data": {
      "text/plain": [
       "[[1, 2], [3, 4], [5, 6]]"
      ]
     },
     "execution_count": 9,
     "metadata": {},
     "output_type": "execute_result"
    }
   ],
   "source": [
    "res = list(map(list, test_list))\n",
    "res"
   ]
  },
  {
   "cell_type": "markdown",
   "id": "c75434d8",
   "metadata": {},
   "source": [
    "Convert list of string to list of list\n",
    "\n",
    "Method#4: Using loop + eval() method \n",
    "\n",
    "This task can be performed with the help of these functions. Loop is used to iterate over the list and eval is used to parse the expression present in the string. "
   ]
  },
  {
   "cell_type": "code",
   "execution_count": 11,
   "id": "3cee4b5b",
   "metadata": {},
   "outputs": [
    {
     "name": "stdout",
     "output_type": "stream",
     "text": [
      "The original list is : ['[1, 4, 5]', '[4, 6, 8]']\n",
      "The list after conversion is : [[1, 4, 5], [4, 6, 8]]\n"
     ]
    }
   ],
   "source": [
    "# Python3 code to demonstrate\n",
    "# to convert list of string to list of list\n",
    "# using loop + eval functions\n",
    "import re\n",
    "# initializing list\n",
    "test_list = ['[1, 4, 5]', '[4, 6, 8]']\n",
    " \n",
    "# printing original list\n",
    "print(\"The original list is : \" + str(test_list))\n",
    " \n",
    "# using loop + eval functions\n",
    "# to convert list of string to list of list\n",
    "for i in range(len(test_list)):\n",
    "    test_list[i] = eval(test_list[i])\n",
    " \n",
    "# printing result\n",
    "print(\"The list after conversion is : \" + str(test_list))"
   ]
  },
  {
   "cell_type": "markdown",
   "id": "14232575",
   "metadata": {},
   "source": [
    "Method #5: Using list comprehension "
   ]
  },
  {
   "cell_type": "code",
   "execution_count": 18,
   "id": "9a6e0dbe",
   "metadata": {},
   "outputs": [
    {
     "name": "stdout",
     "output_type": "stream",
     "text": [
      "[[1, 4, 5], [4, 6, 8]]\n"
     ]
    }
   ],
   "source": [
    "test_list = ['[1, 4, 5]', '[4, 6, 8]']\n",
    "x=[ eval(i) for i in test_list ]\n",
    "print(x)"
   ]
  },
  {
   "cell_type": "code",
   "execution_count": 22,
   "id": "2b7cacd2",
   "metadata": {},
   "outputs": [
    {
     "data": {
      "text/plain": [
       "{'z': 2, 'g': 3}"
      ]
     },
     "execution_count": 22,
     "metadata": {},
     "output_type": "execute_result"
    }
   ],
   "source": [
    "dict1={\"z\":2,\"g\":3,\"z\":2}\n",
    "dict1"
   ]
  },
  {
   "cell_type": "code",
   "execution_count": 2,
   "id": "ed687938",
   "metadata": {},
   "outputs": [
    {
     "data": {
      "text/plain": [
       "['__add__',\n",
       " '__class__',\n",
       " '__class_getitem__',\n",
       " '__contains__',\n",
       " '__delattr__',\n",
       " '__delitem__',\n",
       " '__dir__',\n",
       " '__doc__',\n",
       " '__eq__',\n",
       " '__format__',\n",
       " '__ge__',\n",
       " '__getattribute__',\n",
       " '__getitem__',\n",
       " '__gt__',\n",
       " '__hash__',\n",
       " '__iadd__',\n",
       " '__imul__',\n",
       " '__init__',\n",
       " '__init_subclass__',\n",
       " '__iter__',\n",
       " '__le__',\n",
       " '__len__',\n",
       " '__lt__',\n",
       " '__mul__',\n",
       " '__ne__',\n",
       " '__new__',\n",
       " '__reduce__',\n",
       " '__reduce_ex__',\n",
       " '__repr__',\n",
       " '__reversed__',\n",
       " '__rmul__',\n",
       " '__setattr__',\n",
       " '__setitem__',\n",
       " '__sizeof__',\n",
       " '__str__',\n",
       " '__subclasshook__',\n",
       " 'append',\n",
       " 'clear',\n",
       " 'copy',\n",
       " 'count',\n",
       " 'extend',\n",
       " 'index',\n",
       " 'insert',\n",
       " 'pop',\n",
       " 'remove',\n",
       " 'reverse',\n",
       " 'sort']"
      ]
     },
     "execution_count": 2,
     "metadata": {},
     "output_type": "execute_result"
    }
   ],
   "source": [
    "dir(list)"
   ]
  },
  {
   "cell_type": "code",
   "execution_count": 3,
   "id": "e8ec1210",
   "metadata": {},
   "outputs": [
    {
     "data": {
      "text/plain": [
       "['__add__',\n",
       " '__class__',\n",
       " '__class_getitem__',\n",
       " '__contains__',\n",
       " '__delattr__',\n",
       " '__dir__',\n",
       " '__doc__',\n",
       " '__eq__',\n",
       " '__format__',\n",
       " '__ge__',\n",
       " '__getattribute__',\n",
       " '__getitem__',\n",
       " '__getnewargs__',\n",
       " '__gt__',\n",
       " '__hash__',\n",
       " '__init__',\n",
       " '__init_subclass__',\n",
       " '__iter__',\n",
       " '__le__',\n",
       " '__len__',\n",
       " '__lt__',\n",
       " '__mul__',\n",
       " '__ne__',\n",
       " '__new__',\n",
       " '__reduce__',\n",
       " '__reduce_ex__',\n",
       " '__repr__',\n",
       " '__rmul__',\n",
       " '__setattr__',\n",
       " '__sizeof__',\n",
       " '__str__',\n",
       " '__subclasshook__',\n",
       " 'count',\n",
       " 'index']"
      ]
     },
     "execution_count": 3,
     "metadata": {},
     "output_type": "execute_result"
    }
   ],
   "source": [
    "dir(tuple)"
   ]
  },
  {
   "cell_type": "code",
   "execution_count": 6,
   "id": "4f60bef2",
   "metadata": {},
   "outputs": [
    {
     "data": {
      "text/plain": [
       "['__class__',\n",
       " '__class_getitem__',\n",
       " '__contains__',\n",
       " '__delattr__',\n",
       " '__delitem__',\n",
       " '__dir__',\n",
       " '__doc__',\n",
       " '__eq__',\n",
       " '__format__',\n",
       " '__ge__',\n",
       " '__getattribute__',\n",
       " '__getitem__',\n",
       " '__gt__',\n",
       " '__hash__',\n",
       " '__init__',\n",
       " '__init_subclass__',\n",
       " '__ior__',\n",
       " '__iter__',\n",
       " '__le__',\n",
       " '__len__',\n",
       " '__lt__',\n",
       " '__ne__',\n",
       " '__new__',\n",
       " '__or__',\n",
       " '__reduce__',\n",
       " '__reduce_ex__',\n",
       " '__repr__',\n",
       " '__reversed__',\n",
       " '__ror__',\n",
       " '__setattr__',\n",
       " '__setitem__',\n",
       " '__sizeof__',\n",
       " '__str__',\n",
       " '__subclasshook__',\n",
       " 'clear',\n",
       " 'copy',\n",
       " 'fromkeys',\n",
       " 'get',\n",
       " 'items',\n",
       " 'keys',\n",
       " 'pop',\n",
       " 'popitem',\n",
       " 'setdefault',\n",
       " 'update',\n",
       " 'values']"
      ]
     },
     "execution_count": 6,
     "metadata": {},
     "output_type": "execute_result"
    }
   ],
   "source": [
    "dir(dict)"
   ]
  },
  {
   "cell_type": "code",
   "execution_count": 7,
   "id": "5603cbac",
   "metadata": {},
   "outputs": [
    {
     "data": {
      "text/plain": [
       "['__and__',\n",
       " '__class__',\n",
       " '__class_getitem__',\n",
       " '__contains__',\n",
       " '__delattr__',\n",
       " '__dir__',\n",
       " '__doc__',\n",
       " '__eq__',\n",
       " '__format__',\n",
       " '__ge__',\n",
       " '__getattribute__',\n",
       " '__gt__',\n",
       " '__hash__',\n",
       " '__iand__',\n",
       " '__init__',\n",
       " '__init_subclass__',\n",
       " '__ior__',\n",
       " '__isub__',\n",
       " '__iter__',\n",
       " '__ixor__',\n",
       " '__le__',\n",
       " '__len__',\n",
       " '__lt__',\n",
       " '__ne__',\n",
       " '__new__',\n",
       " '__or__',\n",
       " '__rand__',\n",
       " '__reduce__',\n",
       " '__reduce_ex__',\n",
       " '__repr__',\n",
       " '__ror__',\n",
       " '__rsub__',\n",
       " '__rxor__',\n",
       " '__setattr__',\n",
       " '__sizeof__',\n",
       " '__str__',\n",
       " '__sub__',\n",
       " '__subclasshook__',\n",
       " '__xor__',\n",
       " 'add',\n",
       " 'clear',\n",
       " 'copy',\n",
       " 'difference',\n",
       " 'difference_update',\n",
       " 'discard',\n",
       " 'intersection',\n",
       " 'intersection_update',\n",
       " 'isdisjoint',\n",
       " 'issubset',\n",
       " 'issuperset',\n",
       " 'pop',\n",
       " 'remove',\n",
       " 'symmetric_difference',\n",
       " 'symmetric_difference_update',\n",
       " 'union',\n",
       " 'update']"
      ]
     },
     "execution_count": 7,
     "metadata": {},
     "output_type": "execute_result"
    }
   ],
   "source": [
    "dir(set)"
   ]
  },
  {
   "cell_type": "code",
   "execution_count": null,
   "id": "6f52f481",
   "metadata": {},
   "outputs": [],
   "source": []
  }
 ],
 "metadata": {
  "kernelspec": {
   "display_name": "Python 3 (ipykernel)",
   "language": "python",
   "name": "python3"
  },
  "language_info": {
   "codemirror_mode": {
    "name": "ipython",
    "version": 3
   },
   "file_extension": ".py",
   "mimetype": "text/x-python",
   "name": "python",
   "nbconvert_exporter": "python",
   "pygments_lexer": "ipython3",
   "version": "3.9.12"
  }
 },
 "nbformat": 4,
 "nbformat_minor": 5
}
